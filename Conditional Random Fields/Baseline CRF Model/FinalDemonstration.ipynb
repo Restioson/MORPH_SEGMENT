{
 "cells": [
  {
   "cell_type": "markdown",
   "source": [
    "# Final Demonstration Conditional Random Fields for Surface Segmentation\n",
    "## Tumi Moeng - 16/10/2020"
   ],
   "metadata": {
    "collapsed": false
   }
  },
  {
   "cell_type": "markdown",
   "source": [
    "## Demonstration\n",
    "For the purpose of the demonstration I will only be showing testing for the BaselineCRF as\n",
    "it produced the most favourable results of the two models implemented. All four languages will\n",
    "be tested in this short demonstration. For all four languages we will be giving them a word, and\n",
    "then the word will be segmented and those segments will be labelled."
   ],
   "metadata": {
    "collapsed": false
   }
  },
  {
   "cell_type": "code",
   "source": [
    "from BaselineCRF import BaselineCRF, \\\n",
    "    surface_segment_data_active_preparation,\\\n",
    "    surface_labelled_data_preparation_pipeline\n",
    "\n",
    "print(\"Starting CRF Generation\")\n",
    "ndebele_surface = BaselineCRF(\"ndebele\").to_use_surface_crf()\n",
    "ndebele_labelled = BaselineCRF(\"ndebele\").to_use_labelled_crf()\n",
    "print(\"isiNdebele Done\")\n",
    "swati_surface = BaselineCRF(\"swati\").to_use_surface_crf()\n",
    "swati_labelled = BaselineCRF(\"swati\").to_use_labelled_crf()\n",
    "print(\"siSwati Done\")\n",
    "xhosa_surface = BaselineCRF(\"xhosa\").to_use_surface_crf()\n",
    "xhosa_labelled = BaselineCRF(\"xhosa\").to_use_labelled_crf()\n",
    "print(\"isiXhosa Done\")\n",
    "zulu_surface = BaselineCRF(\"zulu\").to_use_surface_crf()\n",
    "zulu_labelled = BaselineCRF(\"zulu\").to_use_labelled_crf()\n",
    "print(\"isiZulu Done\")\n",
    "print(\"CRF Generation Completed\")"
   ],
   "metadata": {
    "collapsed": false,
    "pycharm": {
     "name": "#%%\n"
    },
    "ExecuteTime": {
     "end_time": "2024-08-16T08:33:02.589007Z",
     "start_time": "2024-08-16T08:33:02.407996Z"
    }
   },
   "outputs": [
    {
     "name": "stdout",
     "output_type": "stream",
     "text": [
      "Starting CRF Generation\n"
     ]
    },
    {
     "ename": "FileNotFoundError",
     "evalue": "[Errno 2] No such file or directory: '/home/restioson/.local/share/JetBrains/Toolbox/apps/pycharm-professional/plugins/python/helpers-pro/jupyter_debug/../morphology/ndebele/ndebele.clean.train.conll'",
     "output_type": "error",
     "traceback": [
      "\u001B[0;31m---------------------------------------------------------------------------\u001B[0m",
      "\u001B[0;31mFileNotFoundError\u001B[0m                         Traceback (most recent call last)",
      "Cell \u001B[0;32mIn[4], line 1\u001B[0m\n\u001B[0;32m----> 1\u001B[0m \u001B[38;5;28;01mfrom\u001B[39;00m \u001B[38;5;21;01mBaselineCRF\u001B[39;00m \u001B[38;5;28;01mimport\u001B[39;00m BaselineCRF, \\\n\u001B[1;32m      2\u001B[0m     surface_segment_data_active_preparation,\\\n\u001B[1;32m      3\u001B[0m     surface_labelled_data_preparation_pipeline\n\u001B[1;32m      5\u001B[0m \u001B[38;5;28mprint\u001B[39m(\u001B[38;5;124m\"\u001B[39m\u001B[38;5;124mStarting CRF Generation\u001B[39m\u001B[38;5;124m\"\u001B[39m)\n\u001B[1;32m      6\u001B[0m ndebele_surface \u001B[38;5;241m=\u001B[39m BaselineCRF(\u001B[38;5;124m\"\u001B[39m\u001B[38;5;124mndebele\u001B[39m\u001B[38;5;124m\"\u001B[39m)\u001B[38;5;241m.\u001B[39mto_use_surface_crf()\n",
      "File \u001B[0;32m~/PycharmProjects/MORPH_SEGMENT/Conditional Random Fields/Baseline CRF Model/BaselineCRF.py:999\u001B[0m\n\u001B[1;32m    996\u001B[0m         labels \u001B[38;5;241m=\u001B[39m ans[\u001B[38;5;241m0\u001B[39m]\n\u001B[1;32m    997\u001B[0m         \u001B[38;5;28mprint\u001B[39m(\u001B[38;5;124m\"\u001B[39m\u001B[38;5;124mSegment Labels: \u001B[39m\u001B[38;5;124m\"\u001B[39m\u001B[38;5;241m+\u001B[39m\u001B[38;5;28mstr\u001B[39m(labels))\n\u001B[0;32m--> 999\u001B[0m \u001B[43mdemonstration\u001B[49m\u001B[43m(\u001B[49m\u001B[43m)\u001B[49m\n",
      "File \u001B[0;32m~/PycharmProjects/MORPH_SEGMENT/Conditional Random Fields/Baseline CRF Model/BaselineCRF.py:919\u001B[0m, in \u001B[0;36mdemonstration\u001B[0;34m()\u001B[0m\n\u001B[1;32m    915\u001B[0m \u001B[38;5;28;01mdef\u001B[39;00m \u001B[38;5;21mdemonstration\u001B[39m():\n\u001B[1;32m    916\u001B[0m     \u001B[38;5;66;03m# zulu, xhosa, swati, ndebele\u001B[39;00m\n\u001B[1;32m    917\u001B[0m     \u001B[38;5;66;03m# Make all the CRFs\u001B[39;00m\n\u001B[1;32m    918\u001B[0m     \u001B[38;5;28mprint\u001B[39m(\u001B[38;5;124m\"\u001B[39m\u001B[38;5;124mStarting CRF Generation\u001B[39m\u001B[38;5;124m\"\u001B[39m)\n\u001B[0;32m--> 919\u001B[0m     ndebele_surface \u001B[38;5;241m=\u001B[39m \u001B[43mBaselineCRF\u001B[49m\u001B[43m(\u001B[49m\u001B[38;5;124;43m\"\u001B[39;49m\u001B[38;5;124;43mndebele\u001B[39;49m\u001B[38;5;124;43m\"\u001B[39;49m\u001B[43m)\u001B[49m\u001B[38;5;241;43m.\u001B[39;49m\u001B[43mto_use_surface_crf\u001B[49m\u001B[43m(\u001B[49m\u001B[43m)\u001B[49m\n\u001B[1;32m    920\u001B[0m     ndebele_labelled \u001B[38;5;241m=\u001B[39m BaselineCRF(\u001B[38;5;124m\"\u001B[39m\u001B[38;5;124mndebele\u001B[39m\u001B[38;5;124m\"\u001B[39m)\u001B[38;5;241m.\u001B[39mto_use_labelled_crf()\n\u001B[1;32m    921\u001B[0m     \u001B[38;5;28mprint\u001B[39m(\u001B[38;5;124m\"\u001B[39m\u001B[38;5;124misiNdebele Done\u001B[39m\u001B[38;5;124m\"\u001B[39m)\n",
      "File \u001B[0;32m~/PycharmProjects/MORPH_SEGMENT/Conditional Random Fields/Baseline CRF Model/BaselineCRF.py:132\u001B[0m, in \u001B[0;36mBaselineCRF.to_use_surface_crf\u001B[0;34m(self)\u001B[0m\n\u001B[1;32m    130\u001B[0m counter \u001B[38;5;241m=\u001B[39m \u001B[38;5;241m0\u001B[39m\n\u001B[1;32m    131\u001B[0m \u001B[38;5;28;01mfor\u001B[39;00m file \u001B[38;5;129;01min\u001B[39;00m \u001B[38;5;28mself\u001B[39m\u001B[38;5;241m.\u001B[39minput_files:\n\u001B[0;32m--> 132\u001B[0m     input_file \u001B[38;5;241m=\u001B[39m \u001B[38;5;28;43mopen\u001B[39;49m\u001B[43m(\u001B[49m\u001B[43mos\u001B[49m\u001B[38;5;241;43m.\u001B[39;49m\u001B[43mpath\u001B[49m\u001B[38;5;241;43m.\u001B[39;49m\u001B[43mjoin\u001B[49m\u001B[43m(\u001B[49m\u001B[43msys\u001B[49m\u001B[38;5;241;43m.\u001B[39;49m\u001B[43mpath\u001B[49m\u001B[43m[\u001B[49m\u001B[38;5;241;43m0\u001B[39;49m\u001B[43m]\u001B[49m\u001B[43m,\u001B[49m\u001B[43m \u001B[49m\u001B[43mfile\u001B[49m\u001B[43m)\u001B[49m\u001B[43m,\u001B[49m\u001B[43m \u001B[49m\u001B[38;5;124;43m'\u001B[39;49m\u001B[38;5;124;43mr\u001B[39;49m\u001B[38;5;124;43m'\u001B[39;49m\u001B[43m)\u001B[49m\n\u001B[1;32m    133\u001B[0m     \u001B[38;5;28;01mfor\u001B[39;00m line \u001B[38;5;129;01min\u001B[39;00m input_file\u001B[38;5;241m.\u001B[39mreadlines():\n\u001B[1;32m    134\u001B[0m         content \u001B[38;5;241m=\u001B[39m line\u001B[38;5;241m.\u001B[39mrstrip(\u001B[38;5;124m'\u001B[39m\u001B[38;5;130;01m\\n\u001B[39;00m\u001B[38;5;124m'\u001B[39m)\u001B[38;5;241m.\u001B[39msplit(\u001B[38;5;124m\"\u001B[39m\u001B[38;5;124m | \u001B[39m\u001B[38;5;124m\"\u001B[39m)\n",
      "\u001B[0;31mFileNotFoundError\u001B[0m: [Errno 2] No such file or directory: '/home/restioson/.local/share/JetBrains/Toolbox/apps/pycharm-professional/plugins/python/helpers-pro/jupyter_debug/../morphology/ndebele/ndebele.clean.train.conll'"
     ]
    }
   ],
   "execution_count": 4
  },
  {
   "cell_type": "markdown",
   "source": [
    "## isiNdebele"
   ],
   "metadata": {
    "collapsed": false
   }
  },
  {
   "cell_type": "code",
   "execution_count": 2,
   "outputs": [
    {
     "name": "stdout",
     "output_type": "stream",
     "text": [
      "umuntu\n"
     ]
    },
    {
     "ename": "NameError",
     "evalue": "name 'surface_segment_data_active_preparation' is not defined",
     "output_type": "error",
     "traceback": [
      "\u001B[1;31m---------------------------------------------------------------------------\u001B[0m",
      "\u001B[1;31mNameError\u001B[0m                                 Traceback (most recent call last)",
      "\u001B[1;32m<ipython-input-2-d71e9c3745a8>\u001B[0m in \u001B[0;36m<module>\u001B[1;34m\u001B[0m\n\u001B[0;32m      7\u001B[0m \u001B[1;33m\u001B[0m\u001B[0m\n\u001B[0;32m      8\u001B[0m     \u001B[0mans\u001B[0m \u001B[1;33m=\u001B[0m \u001B[1;33m[\u001B[0m\u001B[1;33m]\u001B[0m\u001B[1;33m\u001B[0m\u001B[1;33m\u001B[0m\u001B[0m\n\u001B[1;32m----> 9\u001B[1;33m     \u001B[0mfeatures\u001B[0m \u001B[1;33m=\u001B[0m \u001B[0msurface_segment_data_active_preparation\u001B[0m\u001B[1;33m(\u001B[0m\u001B[1;33m[\u001B[0m\u001B[0mword\u001B[0m\u001B[1;33m]\u001B[0m\u001B[1;33m)\u001B[0m\u001B[1;33m\u001B[0m\u001B[1;33m\u001B[0m\u001B[0m\n\u001B[0m\u001B[0;32m     10\u001B[0m     \u001B[0mans\u001B[0m \u001B[1;33m=\u001B[0m \u001B[0mndebele_surface\u001B[0m\u001B[1;33m.\u001B[0m\u001B[0mpredict\u001B[0m\u001B[1;33m(\u001B[0m\u001B[0mfeatures\u001B[0m\u001B[1;33m)\u001B[0m\u001B[1;33m\u001B[0m\u001B[1;33m\u001B[0m\u001B[0m\n\u001B[0;32m     11\u001B[0m \u001B[1;33m\u001B[0m\u001B[0m\n",
      "\u001B[1;31mNameError\u001B[0m: name 'surface_segment_data_active_preparation' is not defined"
     ]
    }
   ],
   "source": [
    "word = \"\"\n",
    "while True:\n",
    "    word = input(\"Enter a word: \").rstrip(\" \").rstrip(\"\\n\")\n",
    "    if word == \"quit\":\n",
    "        exit(0)\n",
    "\n",
    "    ans = []\n",
    "    features = surface_segment_data_active_preparation([word])\n",
    "    ans = ndebele_surface.predict(features)\n",
    "\n",
    "    labels = ans[0]\n",
    "    word_list = list(word)\n",
    "\n",
    "    tmp = []\n",
    "\n",
    "    for word, label in zip(word_list, labels):\n",
    "        for i in range(len(label)):\n",
    "            if label[i] == \"S\" or label[i] == \"E\":\n",
    "                tmp.append(word[i])\n",
    "                tmp.append(\"-\")\n",
    "            else:\n",
    "                tmp.append(word[i])\n",
    "    tmp = \"\".join(tmp).rstrip(\"-\")\n",
    "\n",
    "    print(\"Segmented Word: \"+tmp)\n",
    "    features = surface_labelled_data_preparation_pipeline([tmp])\n",
    "    ans = ndebele_labelled.predict(features)\n",
    "    labels = ans[0]\n",
    "    print(\"Segment Labels: \"+str(labels))"
   ],
   "metadata": {
    "collapsed": false,
    "pycharm": {
     "name": "#%%\n"
    }
   }
  },
  {
   "cell_type": "markdown",
   "source": [
    "## isiXhosa"
   ],
   "metadata": {
    "collapsed": false
   }
  },
  {
   "cell_type": "code",
   "execution_count": null,
   "outputs": [],
   "source": [
    "word = \"\"\n",
    "while True:\n",
    "    word = input(\"Enter a word: \").rstrip(\" \").rstrip(\"\\n\")\n",
    "    if word == \"quit\":\n",
    "        exit(0)\n",
    "\n",
    "    ans = []\n",
    "    features = surface_segment_data_active_preparation([word])\n",
    "    ans = xhosa_surface.predict(features)\n",
    "\n",
    "    labels = ans[0]\n",
    "    word_list = list(word)\n",
    "\n",
    "    tmp = []\n",
    "\n",
    "    for word, label in zip(word_list, labels):\n",
    "        for i in range(len(label)):\n",
    "            if label[i] == \"S\" or label[i] == \"E\":\n",
    "                tmp.append(word[i])\n",
    "                tmp.append(\"-\")\n",
    "            else:\n",
    "                tmp.append(word[i])\n",
    "    tmp = \"\".join(tmp).rstrip(\"-\")\n",
    "\n",
    "    print(\"Segmented Word: \"+tmp)\n",
    "    features = surface_labelled_data_preparation_pipeline([tmp])\n",
    "    ans = xhosa_labelled.predict(features)\n",
    "    labels = ans[0]\n",
    "    print(\"Segment Labels: \"+str(labels))"
   ],
   "metadata": {
    "collapsed": false,
    "pycharm": {
     "name": "#%%\n"
    }
   }
  },
  {
   "cell_type": "markdown",
   "source": [
    "## isiZulu"
   ],
   "metadata": {
    "collapsed": false
   }
  },
  {
   "cell_type": "code",
   "execution_count": null,
   "outputs": [],
   "source": [
    "word = \"\"\n",
    "while True:\n",
    "    word = input(\"Enter a word: \").rstrip(\" \").rstrip(\"\\n\")\n",
    "    if word == \"quit\":\n",
    "        exit(0)\n",
    "\n",
    "    ans = []\n",
    "    features = surface_segment_data_active_preparation([word])\n",
    "    ans = zulu_surface.predict(features)\n",
    "\n",
    "    labels = ans[0]\n",
    "    word_list = list(word)\n",
    "\n",
    "    tmp = []\n",
    "\n",
    "    for word, label in zip(word_list, labels):\n",
    "        for i in range(len(label)):\n",
    "            if label[i] == \"S\" or label[i] == \"E\":\n",
    "                tmp.append(word[i])\n",
    "                tmp.append(\"-\")\n",
    "            else:\n",
    "                tmp.append(word[i])\n",
    "    tmp = \"\".join(tmp).rstrip(\"-\")\n",
    "\n",
    "    print(\"Segmented Word: \"+tmp)\n",
    "    features = surface_labelled_data_preparation_pipeline([tmp])\n",
    "    ans = zulu_labelled.predict(features)\n",
    "    labels = ans[0]\n",
    "    print(\"Segment Labels: \"+str(labels))"
   ],
   "metadata": {
    "collapsed": false,
    "pycharm": {
     "name": "#%%\n"
    }
   }
  },
  {
   "cell_type": "markdown",
   "source": [
    "## siSwati"
   ],
   "metadata": {
    "collapsed": false
   }
  },
  {
   "cell_type": "code",
   "execution_count": null,
   "outputs": [],
   "source": [
    "word = \"\"\n",
    "while True:\n",
    "    word = input(\"Enter a word: \").rstrip(\" \").rstrip(\"\\n\")\n",
    "    if word == \"quit\":\n",
    "        exit(0)\n",
    "\n",
    "    ans = []\n",
    "    features = surface_segment_data_active_preparation([word])\n",
    "    ans = swati_surface.predict(features)\n",
    "\n",
    "    labels = ans[0]\n",
    "    word_list = list(word)\n",
    "\n",
    "    tmp = []\n",
    "\n",
    "    for word, label in zip(word_list, labels):\n",
    "        for i in range(len(label)):\n",
    "            if label[i] == \"S\" or label[i] == \"E\":\n",
    "                tmp.append(word[i])\n",
    "                tmp.append(\"-\")\n",
    "            else:\n",
    "                tmp.append(word[i])\n",
    "    tmp = \"\".join(tmp).rstrip(\"-\")\n",
    "\n",
    "    print(\"Segmented Word: \"+tmp)\n",
    "    features = surface_labelled_data_preparation_pipeline([tmp])\n",
    "    ans = swati_labelled.predict(features)\n",
    "    labels = ans[0]\n",
    "    print(\"Segment Labels: \"+str(labels))"
   ],
   "metadata": {
    "collapsed": false,
    "pycharm": {
     "name": "#%%\n"
    }
   }
  }
 ],
 "metadata": {
  "kernelspec": {
   "display_name": "Python 3",
   "language": "python",
   "name": "python3"
  },
  "language_info": {
   "codemirror_mode": {
    "name": "ipython",
    "version": 2
   },
   "file_extension": ".py",
   "mimetype": "text/x-python",
   "name": "python",
   "nbconvert_exporter": "python",
   "pygments_lexer": "ipython2",
   "version": "2.7.6"
  }
 },
 "nbformat": 4,
 "nbformat_minor": 0
}
